{
 "metadata": {
  "name": "",
  "signature": "sha256:7203c30a386ce5eb4a4fa6ec5df9f690e0a5c8f7fd2a65c5be77cca9cffe2a10"
 },
 "nbformat": 3,
 "nbformat_minor": 0,
 "worksheets": [
  {
   "cells": [
    {
     "cell_type": "code",
     "collapsed": false,
     "input": [
      "from sklearn import datasets\n",
      "import pandas as pd\n",
      "%pylab inline\n",
      "from sklearn.preprocessing import StandardScaler\n",
      "from sklearn.cross_validation import train_test_split\n",
      "from sklearn.metrics import mean_squared_error\n",
      "from sklearn.metrics import r2_score\n",
      "from sklearn.linear_model import LinearRegression\n",
      "from sklearn.linear_model import Lasso\n",
      "import numpy as np\n",
      "from matplotlib import pyplot as plt\n",
      "from IPython.display import display\n",
      "from sklearn.neighbors import KNeighborsRegressor\n",
      "\n",
      "%matplotlib inline "
     ],
     "language": "python",
     "metadata": {},
     "outputs": [
      {
       "output_type": "stream",
       "stream": "stdout",
       "text": [
        "Populating the interactive namespace from numpy and matplotlib\n"
       ]
      }
     ],
     "prompt_number": 1
    },
    {
     "cell_type": "code",
     "collapsed": false,
     "input": [
      "from sklearn.datasets import load_boston\n",
      "boston = datasets.load_boston()\n",
      "print boston.DESCR"
     ],
     "language": "python",
     "metadata": {},
     "outputs": [
      {
       "output_type": "stream",
       "stream": "stdout",
       "text": [
        "Boston House Prices dataset\n",
        "\n",
        "Notes\n",
        "------\n",
        "Data Set Characteristics:  \n",
        "\n",
        "    :Number of Instances: 506 \n",
        "\n",
        "    :Number of Attributes: 13 numeric/categorical predictive\n",
        "    \n",
        "    :Median Value (attribute 14) is usually the target\n",
        "\n",
        "    :Attribute Information (in order):\n",
        "        - CRIM     per capita crime rate by town\n",
        "        - ZN       proportion of residential land zoned for lots over 25,000 sq.ft.\n",
        "        - INDUS    proportion of non-retail business acres per town\n",
        "        - CHAS     Charles River dummy variable (= 1 if tract bounds river; 0 otherwise)\n",
        "        - NOX      nitric oxides concentration (parts per 10 million)\n",
        "        - RM       average number of rooms per dwelling\n",
        "        - AGE      proportion of owner-occupied units built prior to 1940\n",
        "        - DIS      weighted distances to five Boston employment centres\n",
        "        - RAD      index of accessibility to radial highways\n",
        "        - TAX      full-value property-tax rate per $10,000\n",
        "        - PTRATIO  pupil-teacher ratio by town\n",
        "        - B        1000(Bk - 0.63)^2 where Bk is the proportion of blacks by town\n",
        "        - LSTAT    % lower status of the population\n",
        "        - MEDV     Median value of owner-occupied homes in $1000's\n",
        "\n",
        "    :Missing Attribute Values: None\n",
        "\n",
        "    :Creator: Harrison, D. and Rubinfeld, D.L.\n",
        "\n",
        "This is a copy of UCI ML housing dataset.\n",
        "http://archive.ics.uci.edu/ml/datasets/Housing\n",
        "\n",
        "\n",
        "This dataset was taken from the StatLib library which is maintained at Carnegie Mellon University.\n",
        "\n",
        "The Boston house-price data of Harrison, D. and Rubinfeld, D.L. 'Hedonic\n",
        "prices and the demand for clean air', J. Environ. Economics & Management,\n",
        "vol.5, 81-102, 1978.   Used in Belsley, Kuh & Welsch, 'Regression diagnostics\n",
        "...', Wiley, 1980.   N.B. Various transformations are used in the table on\n",
        "pages 244-261 of the latter.\n",
        "\n",
        "The Boston house-price data has been used in many machine learning papers that address regression\n",
        "problems.   \n",
        "     \n",
        "**References**\n",
        "\n",
        "   - Belsley, Kuh & Welsch, 'Regression diagnostics: Identifying Influential Data and Sources of Collinearity', Wiley, 1980. 244-261.\n",
        "   - Quinlan,R. (1993). Combining Instance-Based and Model-Based Learning. In Proceedings on the Tenth International Conference of Machine Learning, 236-243, University of Massachusetts, Amherst. Morgan Kaufmann.\n",
        "   - many more! (see http://archive.ics.uci.edu/ml/datasets/Housing)\n",
        "\n"
       ]
      }
     ],
     "prompt_number": 4
    },
    {
     "cell_type": "code",
     "collapsed": false,
     "input": [
      "train_data, test_data, train_target, test_target = \\\n",
      "train_test_split(boston.data, boston.target, train_size=.8)\n",
      "train_data.shape"
     ],
     "language": "python",
     "metadata": {},
     "outputs": [
      {
       "metadata": {},
       "output_type": "pyout",
       "prompt_number": 5,
       "text": [
        "(404L, 13L)"
       ]
      }
     ],
     "prompt_number": 5
    },
    {
     "cell_type": "code",
     "collapsed": false,
     "input": [
      "from sklearn import datasets\n",
      "boston = datasets.load_boston()\n",
      "X = boston.data\n",
      "y = boston.target\n",
      "\n",
      "print X.shape\n",
      "print y.shape"
     ],
     "language": "python",
     "metadata": {},
     "outputs": [
      {
       "output_type": "stream",
       "stream": "stdout",
       "text": [
        "(506L, 13L)\n",
        "(506L,)\n"
       ]
      }
     ],
     "prompt_number": 6
    },
    {
     "cell_type": "code",
     "collapsed": false,
     "input": [
      "plt.hist(y, alpha=1.0)\n",
      "plt.show()"
     ],
     "language": "python",
     "metadata": {},
     "outputs": [
      {
       "metadata": {},
       "output_type": "display_data",
       "png": "[encoded data removed]",
       "text": [
        "<matplotlib.figure.Figure at 0x16affb38>"
       ]
      }
     ],
     "prompt_number": 7
    },
    {
     "cell_type": "code",
     "collapsed": false,
     "input": [
      "clf = LinearRegression()\n",
      "clf.fit(X_train, y_train)\n",
      "zip (y_test, clf.predict(X_test))"
     ],
     "language": "python",
     "metadata": {},
     "outputs": [
      {
       "ename": "NameError",
       "evalue": "name 'X_train' is not defined",
       "output_type": "pyerr",
       "traceback": [
        "\u001b[1;31m---------------------------------------------------------------------------\u001b[0m\n\u001b[1;31mNameError\u001b[0m                                 Traceback (most recent call last)",
        "\u001b[1;32m<ipython-input-8-1c209887d18e>\u001b[0m in \u001b[0;36m<module>\u001b[1;34m()\u001b[0m\n\u001b[0;32m      1\u001b[0m \u001b[0mclf\u001b[0m \u001b[1;33m=\u001b[0m \u001b[0mLinearRegression\u001b[0m\u001b[1;33m(\u001b[0m\u001b[1;33m)\u001b[0m\u001b[1;33m\u001b[0m\u001b[0m\n\u001b[1;32m----> 2\u001b[1;33m \u001b[0mclf\u001b[0m\u001b[1;33m.\u001b[0m\u001b[0mfit\u001b[0m\u001b[1;33m(\u001b[0m\u001b[0mX_train\u001b[0m\u001b[1;33m,\u001b[0m \u001b[0my_train\u001b[0m\u001b[1;33m)\u001b[0m\u001b[1;33m\u001b[0m\u001b[0m\n\u001b[0m\u001b[0;32m      3\u001b[0m \u001b[0mzip\u001b[0m \u001b[1;33m(\u001b[0m\u001b[0my_test\u001b[0m\u001b[1;33m,\u001b[0m \u001b[0mclf\u001b[0m\u001b[1;33m.\u001b[0m\u001b[0mpredict\u001b[0m\u001b[1;33m(\u001b[0m\u001b[0mX_test\u001b[0m\u001b[1;33m)\u001b[0m\u001b[1;33m)\u001b[0m\u001b[1;33m\u001b[0m\u001b[0m\n",
        "\u001b[1;31mNameError\u001b[0m: name 'X_train' is not defined"
       ]
      }
     ],
     "prompt_number": 8
    },
    {
     "cell_type": "code",
     "collapsed": false,
     "input": [
      "from sklearn import linear_model\n",
      "linreg = linear_model.LinearRegression()"
     ],
     "language": "python",
     "metadata": {},
     "outputs": [],
     "prompt_number": 9
    },
    {
     "cell_type": "code",
     "collapsed": false,
     "input": [
      "_=linreg.fit(train_data, train_target)"
     ],
     "language": "python",
     "metadata": {},
     "outputs": [],
     "prompt_number": 10
    },
    {
     "cell_type": "code",
     "collapsed": false,
     "input": [
      "from sklearn import metrics\n",
      "mse = metrics.mean_squared_error(test_target, linreg.predict(test_data)) \n",
      "print(\"MSE is {}\".format(mse))"
     ],
     "language": "python",
     "metadata": {},
     "outputs": [
      {
       "output_type": "stream",
       "stream": "stdout",
       "text": [
        "MSE is 21.8290466808\n"
       ]
      }
     ],
     "prompt_number": 11
    },
    {
     "cell_type": "code",
     "collapsed": false,
     "input": [
      "rmse = np.sqrt(mse) \n",
      "print(\"RMSE is {}\".format(rmse))"
     ],
     "language": "python",
     "metadata": {},
     "outputs": [
      {
       "output_type": "stream",
       "stream": "stdout",
       "text": [
        "RMSE is 4.67215653428\n"
       ]
      }
     ],
     "prompt_number": 12
    },
    {
     "cell_type": "code",
     "collapsed": false,
     "input": [
      "linreg.fit(train_data, train_target)\n",
      "r2_train = metrics.r2_score(train_target, linreg.predict(train_data))\n",
      "r2_test = metrics.r2_score(test_target, linreg.predict(test_data))\n",
      "\n",
      "print(\"R2 on training: {:.2%}\".format(r2_train))\n",
      "print(\"R2 on testing: {:.2%}\".format(r2_test))"
     ],
     "language": "python",
     "metadata": {},
     "outputs": [
      {
       "output_type": "stream",
       "stream": "stdout",
       "text": [
        "R2 on training: 73.61%\n",
        "R2 on testing: 75.48%\n"
       ]
      }
     ],
     "prompt_number": 13
    },
    {
     "cell_type": "code",
     "collapsed": false,
     "input": [
      "lasso = linear_model.Lasso()\n",
      "lasso.fit(train_data, train_target)"
     ],
     "language": "python",
     "metadata": {},
     "outputs": [
      {
       "metadata": {},
       "output_type": "pyout",
       "prompt_number": 14,
       "text": [
        "Lasso(alpha=1.0, copy_X=True, fit_intercept=True, max_iter=1000,\n",
        "   normalize=False, positive=False, precompute='auto', tol=0.0001,\n",
        "   warm_start=False)"
       ]
      }
     ],
     "prompt_number": 14
    },
    {
     "cell_type": "code",
     "collapsed": false,
     "input": [
      "fig,ax = plt.subplots()\n",
      "ax.plot(train_data.ptp(axis=0))\n",
      "ax.set_xticklabels(boston.feature_names)\n",
      "ax.set_xticks(np.arange(train_data.shape[1]))\n",
      "ax.set_ylabel('Max-min')\n"
     ],
     "language": "python",
     "metadata": {},
     "outputs": [
      {
       "metadata": {},
       "output_type": "pyout",
       "prompt_number": 15,
       "text": [
        "<matplotlib.text.Text at 0x16eac940>"
       ]
      },
      {
       "metadata": {},
       "output_type": "display_data",
       "png": "[encoded data removed]",
       "text": [
        "<matplotlib.figure.Figure at 0x16cb3860>"
       ]
      }
     ],
     "prompt_number": 15
    },
    {
     "cell_type": "code",
     "collapsed": false,
     "input": [
      "lasso = linear_model.Lasso(alpha=0.1)\n",
      "lasso.fit(train_data, train_target)\n",
      " "
     ],
     "language": "python",
     "metadata": {},
     "outputs": [
      {
       "metadata": {},
       "output_type": "pyout",
       "prompt_number": 16,
       "text": [
        "Lasso(alpha=0.1, copy_X=True, fit_intercept=True, max_iter=1000,\n",
        "   normalize=False, positive=False, precompute='auto', tol=0.0001,\n",
        "   warm_start=False)"
       ]
      }
     ],
     "prompt_number": 16
    },
    {
     "cell_type": "code",
     "collapsed": false,
     "input": [
      "lasso = linear_model.Lasso(normalize=True, alpha=1.0)\n",
      "lasso.fit(train_data, train_target)"
     ],
     "language": "python",
     "metadata": {},
     "outputs": [
      {
       "metadata": {},
       "output_type": "pyout",
       "prompt_number": 17,
       "text": [
        "Lasso(alpha=1.0, copy_X=True, fit_intercept=True, max_iter=1000,\n",
        "   normalize=True, positive=False, precompute='auto', tol=0.0001,\n",
        "   warm_start=False)"
       ]
      }
     ],
     "prompt_number": 17
    },
    {
     "cell_type": "code",
     "collapsed": false,
     "input": [
      "lasso.fit(train_data, train_target)\n",
      "r2_lasso_train = lasso.score(train_data, train_target)\n",
      "r2_lasso = lasso.score(test_data, test_target)"
     ],
     "language": "python",
     "metadata": {},
     "outputs": [],
     "prompt_number": 18
    },
    {
     "cell_type": "code",
     "collapsed": false,
     "input": [
      "results = \"\"\"\\\n",
      "      | TRAINING | TESTING\n",
      "------+----------+---------\n",
      "Lasso | {:.2%}   | {:.2%}\n",
      "---------------------------\n",
      "\"\"\".format(r2_lasso_train, r2_lasso)\n",
      "print(results)\n",
      " "
     ],
     "language": "python",
     "metadata": {},
     "outputs": [
      {
       "output_type": "stream",
       "stream": "stdout",
       "text": [
        "      | TRAINING | TESTING\n",
        "------+----------+---------\n",
        "Lasso | 0.00%   | -0.01%\n",
        "---------------------------\n",
        "\n"
       ]
      }
     ],
     "prompt_number": 19
    },
    {
     "cell_type": "code",
     "collapsed": false,
     "input": [
      "lasso = linear_model.Lasso(normalize=True, alpha=10.0)\n",
      "lasso.fit(train_data, train_target)"
     ],
     "language": "python",
     "metadata": {},
     "outputs": [
      {
       "metadata": {},
       "output_type": "pyout",
       "prompt_number": 20,
       "text": [
        "Lasso(alpha=10.0, copy_X=True, fit_intercept=True, max_iter=1000,\n",
        "   normalize=True, positive=False, precompute='auto', tol=0.0001,\n",
        "   warm_start=False)"
       ]
      }
     ],
     "prompt_number": 20
    },
    {
     "cell_type": "code",
     "collapsed": false,
     "input": [
      "lasso.fit(train_data, train_target)\n",
      "r2_lasso_train = lasso.score(train_data, train_target)\n",
      "r2_lasso = lasso.score(test_data, test_target)"
     ],
     "language": "python",
     "metadata": {},
     "outputs": [],
     "prompt_number": 21
    },
    {
     "cell_type": "code",
     "collapsed": false,
     "input": [
      "results = \"\"\"\\\n",
      "      | TRAINING | TESTING\n",
      "------+----------+---------\n",
      "Lasso | {:.5%}   | {:.5%}\n",
      "---------------------------\n",
      "\"\"\".format(r2_lasso_train, r2_lasso)\n",
      "print(results)"
     ],
     "language": "python",
     "metadata": {},
     "outputs": [
      {
       "output_type": "stream",
       "stream": "stdout",
       "text": [
        "      | TRAINING | TESTING\n",
        "------+----------+---------\n",
        "Lasso | 0.00000%   | -0.00867%\n",
        "---------------------------\n",
        "\n"
       ]
      }
     ],
     "prompt_number": 22
    },
    {
     "cell_type": "code",
     "collapsed": false,
     "input": [
      "results = \"\"\"\\\n",
      "      | TRAINING | TESTING\n",
      "------+----------+---------\n",
      "Lasso | {:.2%}   | {:.2%}\n",
      "---------------------------\n",
      "\"\"\".format(r2_lasso_train, r2_lasso)\n",
      "print(results)\n",
      " "
     ],
     "language": "python",
     "metadata": {},
     "outputs": [
      {
       "output_type": "stream",
       "stream": "stdout",
       "text": [
        "      | TRAINING | TESTING\n",
        "------+----------+---------\n",
        "Lasso | 0.00%   | -0.01%\n",
        "---------------------------\n",
        "\n"
       ]
      }
     ],
     "prompt_number": 23
    },
    {
     "cell_type": "code",
     "collapsed": false,
     "input": [
      "lasso = linear_model.Lasso(normalize=True, alpha=1.0)\n",
      "lasso.fit(train_data, train_target)"
     ],
     "language": "python",
     "metadata": {},
     "outputs": [
      {
       "metadata": {},
       "output_type": "pyout",
       "prompt_number": 24,
       "text": [
        "Lasso(alpha=1.0, copy_X=True, fit_intercept=True, max_iter=1000,\n",
        "   normalize=True, positive=False, precompute='auto', tol=0.0001,\n",
        "   warm_start=False)"
       ]
      }
     ],
     "prompt_number": 24
    },
    {
     "cell_type": "code",
     "collapsed": false,
     "input": [
      "lasso.fit(train_data, train_target)\n",
      "r2_lasso_train = lasso.score(train_data, train_target)\n",
      "r2_lasso = lasso.score(test_data, test_target)"
     ],
     "language": "python",
     "metadata": {},
     "outputs": [],
     "prompt_number": 25
    },
    {
     "cell_type": "code",
     "collapsed": false,
     "input": [
      "results = \"\"\"\\\n",
      "      | TRAINING | TESTING\n",
      "------+----------+---------\n",
      "Lasso | {:.2%}   | {:.2%}\n",
      "---------------------------\n",
      "\"\"\".format(r2_lasso_train, r2_lasso)\n",
      "print(results)\n",
      " "
     ],
     "language": "python",
     "metadata": {},
     "outputs": [
      {
       "output_type": "stream",
       "stream": "stdout",
       "text": [
        "      | TRAINING | TESTING\n",
        "------+----------+---------\n",
        "Lasso | 0.00%   | -0.01%\n",
        "---------------------------\n",
        "\n"
       ]
      }
     ],
     "prompt_number": 26
    },
    {
     "cell_type": "code",
     "collapsed": false,
     "input": [
      "ridge = linear_model.Ridge(normalize=True, alpha=.1)\n",
      "\n",
      "ridge.fit(train_data, train_target)\n",
      "r2_ridge_train = ridge.score(train_data, train_target)\n",
      "r2_ridge = ridge.score(test_data, test_target)"
     ],
     "language": "python",
     "metadata": {},
     "outputs": [],
     "prompt_number": 27
    },
    {
     "cell_type": "code",
     "collapsed": false,
     "input": [
      "results = \"\"\"\\\n",
      "      | TRAINING | TESTING\n",
      "------+----------+---------\n",
      "Lasso | {:.2%}   | {:.2%}\n",
      "------+----------+---------\n",
      "Ridge | {:.2%}   | {:.2%}\n",
      "---------------------------\n",
      "\"\"\".format(r2_lasso_train, r2_lasso,\n",
      "           r2_ridge_train, r2_ridge)\n",
      "print(results)"
     ],
     "language": "python",
     "metadata": {},
     "outputs": [
      {
       "output_type": "stream",
       "stream": "stdout",
       "text": [
        "      | TRAINING | TESTING\n",
        "------+----------+---------\n",
        "Lasso | 0.00%   | -0.01%\n",
        "------+----------+---------\n",
        "Ridge | 72.71%   | 74.18%\n",
        "---------------------------\n",
        "\n"
       ]
      }
     ],
     "prompt_number": 28
    },
    {
     "cell_type": "code",
     "collapsed": false,
     "input": [
      "lasso.fit(train_data, train_target)\n",
      "\n",
      "r2_lasso_train = lasso.score(train_data, train_target)\n",
      "r2_lasso = lasso.score(test_data, test_target)\n"
     ],
     "language": "python",
     "metadata": {},
     "outputs": [],
     "prompt_number": 29
    },
    {
     "cell_type": "code",
     "collapsed": false,
     "input": [
      "results = \"\"\"\\\n",
      "      | TRAINING | TESTING\n",
      "------+----------+---------\n",
      "Lasso | {:.2%}   | {:.2%}\n",
      "---------------------------\n",
      "\"\"\".format(r2_lasso_train, r2_lasso)\n",
      "print(results)\n",
      " "
     ],
     "language": "python",
     "metadata": {},
     "outputs": [
      {
       "output_type": "stream",
       "stream": "stdout",
       "text": [
        "      | TRAINING | TESTING\n",
        "------+----------+---------\n",
        "Lasso | 0.00%   | -0.01%\n",
        "---------------------------\n",
        "\n"
       ]
      }
     ],
     "prompt_number": 30
    },
    {
     "cell_type": "code",
     "collapsed": false,
     "input": [
      "results = \"\"\"\\\n",
      "      | TRAINING | TESTING\n",
      "------+----------+---------\n",
      "Lasso | {:.2%}   | {:.2%}\n",
      "------+----------+---------\n",
      "Ridge | {:.2%}   | {:.2%}\n",
      "---------------------------\n",
      "\"\"\".format(r2_lasso_train, r2_lasso,\n",
      "           r2_ridge_train, r2_ridge)\n",
      "print(results)"
     ],
     "language": "python",
     "metadata": {},
     "outputs": [
      {
       "output_type": "stream",
       "stream": "stdout",
       "text": [
        "      | TRAINING | TESTING\n",
        "------+----------+---------\n",
        "Lasso | 0.00%   | -0.01%\n",
        "------+----------+---------\n",
        "Ridge | 72.71%   | 74.18%\n",
        "---------------------------\n",
        "\n"
       ]
      }
     ],
     "prompt_number": 31
    },
    {
     "cell_type": "code",
     "collapsed": false,
     "input": [
      "lasso.alpha = 0.1\n",
      "lasso.fit(train_data, train_target)\n",
      "ridge.alpha = 0.1\n",
      "ridge.fit(train_data, train_target)"
     ],
     "language": "python",
     "metadata": {},
     "outputs": [
      {
       "metadata": {},
       "output_type": "pyout",
       "prompt_number": 32,
       "text": [
        "Ridge(alpha=0.1, copy_X=True, fit_intercept=True, max_iter=None,\n",
        "   normalize=True, solver='auto', tol=0.001)"
       ]
      }
     ],
     "prompt_number": 32
    },
    {
     "cell_type": "code",
     "collapsed": false,
     "input": [
      "fig,ax = plt.subplots()\n",
      "ax.plot(lasso.coef_, label=r'Lasso ($\\alpha$=0.1)')\n",
      "ax.plot(ridge.coef_, label=r'Ridge ($\\alpha$=0.1)')\n",
      "ax.set_xticklabels(boston.feature_names)\n",
      "ax.set_xticks(np.arange(train_data.shape[1]))\n",
      "ax.legend(loc='best')"
     ],
     "language": "python",
     "metadata": {},
     "outputs": [
      {
       "metadata": {},
       "output_type": "pyout",
       "prompt_number": 33,
       "text": [
        "<matplotlib.legend.Legend at 0x17182748>"
       ]
      },
      {
       "metadata": {},
       "output_type": "display_data",
       "png": "[encoded data removed]",
       "text": [
        "<matplotlib.figure.Figure at 0x17057ba8>"
       ]
      }
     ],
     "prompt_number": 33
    },
    {
     "cell_type": "code",
     "collapsed": false,
     "input": [
      "fig,ax = plt.subplots()\n",
      "ax.plot(lasso.coef_, label=r'Lasso ($\\alpha$=10.0)')\n",
      "ax.plot(ridge.coef_, label=r'Ridge ($\\alpha$=10.0)')\n",
      "ax.set_xticklabels(boston.feature_names)\n",
      "ax.set_xticks(np.arange(train_data.shape[1]))\n",
      "ax.legend(loc='best')\n",
      " "
     ],
     "language": "python",
     "metadata": {},
     "outputs": [
      {
       "metadata": {},
       "output_type": "pyout",
       "prompt_number": 34,
       "text": [
        "<matplotlib.legend.Legend at 0x16ccfe10>"
       ]
      },
      {
       "metadata": {},
       "output_type": "display_data",
       "png": "[encoded data removed]",
       "text": [
        "<matplotlib.figure.Figure at 0x16dedef0>"
       ]
      }
     ],
     "prompt_number": 34
    },
    {
     "cell_type": "code",
     "collapsed": false,
     "input": [
      "y_true = [[0.5, 1], [-1, 1], [7, -6]]\n",
      "y_pred = [[0, 2], [-1, 2], [8, -5]]\n",
      "r2_score(y_true, y_pred)  "
     ],
     "language": "python",
     "metadata": {},
     "outputs": [
      {
       "metadata": {},
       "output_type": "pyout",
       "prompt_number": 35,
       "text": [
        "0.93825665859564167"
       ]
      }
     ],
     "prompt_number": 35
    },
    {
     "cell_type": "code",
     "collapsed": false,
     "input": [
      "from sklearn.metrics import mean_squared_error\n",
      "y_true = [3, -1, 6, 4]\n",
      "y_pred = [2.5, 1, 2, 8]\n",
      "mean_squared_error(y_true, y_pred)\n"
     ],
     "language": "python",
     "metadata": {},
     "outputs": [
      {
       "metadata": {},
       "output_type": "pyout",
       "prompt_number": 36,
       "text": [
        "9.0625"
       ]
      }
     ],
     "prompt_number": 36
    },
    {
     "cell_type": "code",
     "collapsed": false,
     "input": [
      "y_true = [[-0.5, 1],[-1, 1],[7, -6]]\n",
      "y_pred = [[0, -2],[-1, 2],[8, -5]]\n",
      "mean_squared_error(y_true, y_pred)"
     ],
     "language": "python",
     "metadata": {},
     "outputs": [
      {
       "metadata": {},
       "output_type": "pyout",
       "prompt_number": 37,
       "text": [
        "2.0416666666666665"
       ]
      }
     ],
     "prompt_number": 37
    },
    {
     "cell_type": "code",
     "collapsed": false,
     "input": [],
     "language": "python",
     "metadata": {},
     "outputs": []
    }
   ],
   "metadata": {}
  }
 ]
}